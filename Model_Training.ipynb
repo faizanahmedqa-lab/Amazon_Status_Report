{
 "cells": [
  {
   "cell_type": "markdown",
   "id": "ab908bbd-d87d-44a8-b674-7dd98a94bc91",
   "metadata": {},
   "source": [
    "# Model Training"
   ]
  },
  {
   "cell_type": "code",
   "execution_count": 1,
   "id": "de5382f5-adb5-4c5a-9004-674484995b6f",
   "metadata": {},
   "outputs": [],
   "source": [
    "# Import Libraries\n",
    "import pandas as pd\n",
    "import numpy as np\n",
    "from sklearn import metrics\n",
    "from sklearn.model_selection import train_test_split, GridSearchCV\n",
    "from sklearn.preprocessing import StandardScaler, OneHotEncoder\n",
    "from sklearn.compose import ColumnTransformer\n",
    "from sklearn.pipeline import Pipeline\n",
    "from sklearn.impute import SimpleImputer\n",
    "import warnings\n",
    "warnings.filterwarnings('ignore')\n",
    "\n",
    "# Import Models\n",
    "from sklearn.linear_model import LogisticRegression\n",
    "from sklearn.svm import SVC\n",
    "from sklearn.ensemble import RandomForestClassifier, AdaBoostClassifier\n",
    "from xgboost import XGBClassifier\n",
    "import joblib"
   ]
  },
  {
   "cell_type": "code",
   "execution_count": 2,
   "id": "a01d5767-9b53-4261-91fb-4908d954b4a9",
   "metadata": {},
   "outputs": [],
   "source": [
    "# Apply settings\n",
    "pd.set_option('Display.max_columns', None)"
   ]
  },
  {
   "cell_type": "code",
   "execution_count": 3,
   "id": "2938234c-dfa2-447d-b998-8ed5a75d8169",
   "metadata": {},
   "outputs": [
    {
     "data": {
      "text/html": [
       "<div>\n",
       "<style scoped>\n",
       "    .dataframe tbody tr th:only-of-type {\n",
       "        vertical-align: middle;\n",
       "    }\n",
       "\n",
       "    .dataframe tbody tr th {\n",
       "        vertical-align: top;\n",
       "    }\n",
       "\n",
       "    .dataframe thead th {\n",
       "        text-align: right;\n",
       "    }\n",
       "</style>\n",
       "<table border=\"1\" class=\"dataframe\">\n",
       "  <thead>\n",
       "    <tr style=\"text-align: right;\">\n",
       "      <th></th>\n",
       "      <th>Product</th>\n",
       "      <th>Category</th>\n",
       "      <th>Price</th>\n",
       "      <th>Quantity</th>\n",
       "      <th>Total Sales</th>\n",
       "      <th>Customer Location</th>\n",
       "      <th>Payment Method</th>\n",
       "      <th>Status</th>\n",
       "    </tr>\n",
       "  </thead>\n",
       "  <tbody>\n",
       "    <tr>\n",
       "      <th>0</th>\n",
       "      <td>Running Shoes</td>\n",
       "      <td>Footwear</td>\n",
       "      <td>60</td>\n",
       "      <td>3</td>\n",
       "      <td>180</td>\n",
       "      <td>New York</td>\n",
       "      <td>Debit Card</td>\n",
       "      <td>Cancelled</td>\n",
       "    </tr>\n",
       "    <tr>\n",
       "      <th>1</th>\n",
       "      <td>Headphones</td>\n",
       "      <td>Electronics</td>\n",
       "      <td>100</td>\n",
       "      <td>4</td>\n",
       "      <td>400</td>\n",
       "      <td>San Francisco</td>\n",
       "      <td>Debit Card</td>\n",
       "      <td>Pending</td>\n",
       "    </tr>\n",
       "    <tr>\n",
       "      <th>2</th>\n",
       "      <td>Running Shoes</td>\n",
       "      <td>Footwear</td>\n",
       "      <td>60</td>\n",
       "      <td>2</td>\n",
       "      <td>120</td>\n",
       "      <td>Denver</td>\n",
       "      <td>Amazon Pay</td>\n",
       "      <td>Cancelled</td>\n",
       "    </tr>\n",
       "    <tr>\n",
       "      <th>3</th>\n",
       "      <td>Running Shoes</td>\n",
       "      <td>Footwear</td>\n",
       "      <td>60</td>\n",
       "      <td>3</td>\n",
       "      <td>180</td>\n",
       "      <td>Dallas</td>\n",
       "      <td>Credit Card</td>\n",
       "      <td>Pending</td>\n",
       "    </tr>\n",
       "    <tr>\n",
       "      <th>4</th>\n",
       "      <td>Smartwatch</td>\n",
       "      <td>Electronics</td>\n",
       "      <td>150</td>\n",
       "      <td>3</td>\n",
       "      <td>450</td>\n",
       "      <td>New York</td>\n",
       "      <td>Debit Card</td>\n",
       "      <td>Pending</td>\n",
       "    </tr>\n",
       "  </tbody>\n",
       "</table>\n",
       "</div>"
      ],
      "text/plain": [
       "         Product     Category  Price  Quantity  Total Sales Customer Location  \\\n",
       "0  Running Shoes     Footwear     60         3          180          New York   \n",
       "1     Headphones  Electronics    100         4          400     San Francisco   \n",
       "2  Running Shoes     Footwear     60         2          120            Denver   \n",
       "3  Running Shoes     Footwear     60         3          180            Dallas   \n",
       "4     Smartwatch  Electronics    150         3          450          New York   \n",
       "\n",
       "  Payment Method     Status  \n",
       "0     Debit Card  Cancelled  \n",
       "1     Debit Card    Pending  \n",
       "2     Amazon Pay  Cancelled  \n",
       "3    Credit Card    Pending  \n",
       "4     Debit Card    Pending  "
      ]
     },
     "execution_count": 3,
     "metadata": {},
     "output_type": "execute_result"
    }
   ],
   "source": [
    "data = pd.read_csv(r'Amazon_cleaned_data.csv')\n",
    "data.head()"
   ]
  },
  {
   "cell_type": "code",
   "execution_count": 15,
   "id": "265071a5-e5ea-4218-b991-d6c0a764a23e",
   "metadata": {},
   "outputs": [],
   "source": [
    "# Backing up the data\n",
    "df = data.copy()"
   ]
  },
  {
   "cell_type": "code",
   "execution_count": 16,
   "id": "62f7b475-293e-4097-9753-4ddc9df20dde",
   "metadata": {},
   "outputs": [
    {
     "data": {
      "text/html": [
       "<div>\n",
       "<style scoped>\n",
       "    .dataframe tbody tr th:only-of-type {\n",
       "        vertical-align: middle;\n",
       "    }\n",
       "\n",
       "    .dataframe tbody tr th {\n",
       "        vertical-align: top;\n",
       "    }\n",
       "\n",
       "    .dataframe thead th {\n",
       "        text-align: right;\n",
       "    }\n",
       "</style>\n",
       "<table border=\"1\" class=\"dataframe\">\n",
       "  <thead>\n",
       "    <tr style=\"text-align: right;\">\n",
       "      <th></th>\n",
       "      <th>Product</th>\n",
       "      <th>Category</th>\n",
       "      <th>Price</th>\n",
       "      <th>Quantity</th>\n",
       "      <th>Total Sales</th>\n",
       "      <th>Customer Location</th>\n",
       "      <th>Payment Method</th>\n",
       "      <th>Status</th>\n",
       "    </tr>\n",
       "  </thead>\n",
       "  <tbody>\n",
       "    <tr>\n",
       "      <th>245</th>\n",
       "      <td>T-Shirt</td>\n",
       "      <td>Clothing</td>\n",
       "      <td>20</td>\n",
       "      <td>2</td>\n",
       "      <td>40</td>\n",
       "      <td>Miami</td>\n",
       "      <td>Debit Card</td>\n",
       "      <td>Cancelled</td>\n",
       "    </tr>\n",
       "    <tr>\n",
       "      <th>246</th>\n",
       "      <td>Jeans</td>\n",
       "      <td>Clothing</td>\n",
       "      <td>40</td>\n",
       "      <td>1</td>\n",
       "      <td>40</td>\n",
       "      <td>Dallas</td>\n",
       "      <td>Debit Card</td>\n",
       "      <td>Cancelled</td>\n",
       "    </tr>\n",
       "    <tr>\n",
       "      <th>247</th>\n",
       "      <td>T-Shirt</td>\n",
       "      <td>Clothing</td>\n",
       "      <td>20</td>\n",
       "      <td>2</td>\n",
       "      <td>40</td>\n",
       "      <td>Denver</td>\n",
       "      <td>Debit Card</td>\n",
       "      <td>Cancelled</td>\n",
       "    </tr>\n",
       "    <tr>\n",
       "      <th>248</th>\n",
       "      <td>Smartwatch</td>\n",
       "      <td>Electronics</td>\n",
       "      <td>150</td>\n",
       "      <td>3</td>\n",
       "      <td>450</td>\n",
       "      <td>New York</td>\n",
       "      <td>Debit Card</td>\n",
       "      <td>Cancelled</td>\n",
       "    </tr>\n",
       "    <tr>\n",
       "      <th>249</th>\n",
       "      <td>Smartphone</td>\n",
       "      <td>Electronics</td>\n",
       "      <td>500</td>\n",
       "      <td>4</td>\n",
       "      <td>2000</td>\n",
       "      <td>Seattle</td>\n",
       "      <td>Amazon Pay</td>\n",
       "      <td>Completed</td>\n",
       "    </tr>\n",
       "  </tbody>\n",
       "</table>\n",
       "</div>"
      ],
      "text/plain": [
       "        Product     Category  Price  Quantity  Total Sales Customer Location  \\\n",
       "245     T-Shirt     Clothing     20         2           40             Miami   \n",
       "246       Jeans     Clothing     40         1           40            Dallas   \n",
       "247     T-Shirt     Clothing     20         2           40            Denver   \n",
       "248  Smartwatch  Electronics    150         3          450          New York   \n",
       "249  Smartphone  Electronics    500         4         2000           Seattle   \n",
       "\n",
       "    Payment Method     Status  \n",
       "245     Debit Card  Cancelled  \n",
       "246     Debit Card  Cancelled  \n",
       "247     Debit Card  Cancelled  \n",
       "248     Debit Card  Cancelled  \n",
       "249     Amazon Pay  Completed  "
      ]
     },
     "execution_count": 16,
     "metadata": {},
     "output_type": "execute_result"
    }
   ],
   "source": [
    "df.tail()"
   ]
  },
  {
   "cell_type": "code",
   "execution_count": 17,
   "id": "5382ad5c-bdc5-40da-95ac-b750bf4c01b9",
   "metadata": {},
   "outputs": [
    {
     "data": {
      "text/plain": [
       "Status\n",
       "2    88\n",
       "1    85\n",
       "0    77\n",
       "Name: count, dtype: int64"
      ]
     },
     "execution_count": 17,
     "metadata": {},
     "output_type": "execute_result"
    }
   ],
   "source": [
    "# Encode Target columns\n",
    "df['Status'] = df['Status'].map({'Cancelled': 0, 'Pending':1, 'Completed': 2})\n",
    "df['Status'].value_counts()"
   ]
  },
  {
   "cell_type": "code",
   "execution_count": 18,
   "id": "a7d93f1a-1d5f-4989-a2bc-300e29881122",
   "metadata": {},
   "outputs": [],
   "source": [
    "# Seperate Features and targets\n",
    "X = df.drop(columns='Status', axis=1)\n",
    "y = df['Status']"
   ]
  },
  {
   "cell_type": "code",
   "execution_count": 19,
   "id": "5b1f7154-dc54-4e7e-a37e-6aafd73054c6",
   "metadata": {},
   "outputs": [
    {
     "name": "stdout",
     "output_type": "stream",
     "text": [
      "The Numeric Columns are: \n",
      " ['Price', 'Quantity', 'Total Sales']\n",
      "The Categoric Columns are: \n",
      " ['Product', 'Category', 'Customer Location', 'Payment Method']\n"
     ]
    }
   ],
   "source": [
    "# Numeric and Categoric Columns\n",
    "num_cols = X.select_dtypes(include='number').columns.to_list()\n",
    "cat_cols = X.select_dtypes(include='object').columns.to_list()\n",
    "\n",
    "print('The Numeric Columns are: \\n', num_cols)\n",
    "print('The Categoric Columns are: \\n', cat_cols)"
   ]
  },
  {
   "cell_type": "code",
   "execution_count": 20,
   "id": "0f587fe5-c100-45dc-a800-4b3b5170536e",
   "metadata": {},
   "outputs": [],
   "source": [
    "# Split Data\n",
    "X_train, X_test, y_train, y_test = train_test_split(X,y,test_size=0.2,random_state=42)"
   ]
  },
  {
   "cell_type": "code",
   "execution_count": 21,
   "id": "9ce26226-f39c-48ed-bd82-c058c9033d5e",
   "metadata": {},
   "outputs": [],
   "source": [
    "# Proccessing the data\n",
    "num_transformer = Pipeline(steps= [\n",
    "    ('imputer', SimpleImputer(strategy='median')),\n",
    "    ('scaler', StandardScaler())\n",
    "])\n",
    "\n",
    "cat_transformer = Pipeline(steps= [\n",
    "    ('imputer', SimpleImputer(strategy='most_frequent')),\n",
    "    ('encoder', OneHotEncoder(handle_unknown='ignore', sparse_output= False))  # sparse_ouput = False is to get dense matrix due to Machine Learning\n",
    "])\n",
    "\n",
    "# Combine Steps\n",
    "preproccessor = ColumnTransformer(transformers=[\n",
    "    ('num', num_transformer, num_cols),\n",
    "    ('cat', cat_transformer, cat_cols)\n",
    "])"
   ]
  },
  {
   "cell_type": "markdown",
   "id": "02ac9d09-e875-493a-b4da-3ac5df15e916",
   "metadata": {},
   "source": [
    "# Training on different models"
   ]
  },
  {
   "cell_type": "code",
   "execution_count": 22,
   "id": "9aabd4b7-5313-4eaf-b28b-631acc0be37f",
   "metadata": {},
   "outputs": [],
   "source": [
    "# Models\n",
    "model_dict= {\n",
    "    'LogisticRegression': LogisticRegression(max_iter=1000),\n",
    "    'SVM': SVC(probability=True),\n",
    "    'RandomForestClassifier': RandomForestClassifier(),\n",
    "    'AdaBoostClassifier': AdaBoostClassifier(),\n",
    "    'XGBoost': XGBClassifier(use_label_encoder= False, eval_metric= 'logloss')\n",
    "}\n",
    "\n",
    "# Hyperparameter\n",
    "# Generic Search Space\n",
    "search_space= {\n",
    "    'C': [0.1,1,10],\n",
    "    'kernal': ['linear', 'rgf'],\n",
    "    'n_estimators': [50,100,200],\n",
    "    'max_depth': [None,5,10],\n",
    "    'learning_rate': [0.5,1]\n",
    "}\n",
    "\n",
    "# Function to filter hyperparameter\n",
    "def filter_hyperparameter(model,space):\n",
    "    valid_keys= model.get_params().keys()\n",
    "    return {k:v for k, v in space.items() if k in valid_keys}"
   ]
  },
  {
   "cell_type": "code",
   "execution_count": 23,
   "id": "c696b751-ace6-472c-8098-6ac9198cd17d",
   "metadata": {},
   "outputs": [
    {
     "name": "stdout",
     "output_type": "stream",
     "text": [
      "Tuning LogisticRegression(max_iter=1000)...\n",
      "Tuning SVC(probability=True)...\n",
      "Tuning RandomForestClassifier()...\n",
      "Tuning AdaBoostClassifier()...\n",
      "Tuning XGBClassifier(base_score=None, booster=None, callbacks=None,\n",
      "              colsample_bylevel=None, colsample_bynode=None,\n",
      "              colsample_bytree=None, device=None, early_stopping_rounds=None,\n",
      "              enable_categorical=False, eval_metric='logloss',\n",
      "              feature_types=None, feature_weights=None, gamma=None,\n",
      "              grow_policy=None, importance_type=None,\n",
      "              interaction_constraints=None, learning_rate=None, max_bin=None,\n",
      "              max_cat_threshold=None, max_cat_to_onehot=None,\n",
      "              max_delta_step=None, max_depth=None, max_leaves=None,\n",
      "              min_child_weight=None, missing=nan, monotone_constraints=None,\n",
      "              multi_strategy=None, n_estimators=None, n_jobs=None,\n",
      "              num_parallel_tree=None, ...)...\n"
     ]
    }
   ],
   "source": [
    "# Grid Search for each model\n",
    "result = []\n",
    "best_pipeline = {}\n",
    "\n",
    "for name, model in model_dict.items():\n",
    "    print(f'Tuning {model}...')\n",
    "    pipe = Pipeline(steps = [\n",
    "        ('proccessor', preproccessor),\n",
    "        ('model', model)\n",
    "    ])\n",
    "    hyperparameter = filter_hyperparameter(model, search_space)\n",
    "    # Prefix model name\n",
    "    param_grid = {f'model__{k}':v for k,v in hyperparameter.items()}\n",
    "    grid = GridSearchCV(estimator= pipe, param_grid=param_grid, cv =5, scoring= 'accuracy', n_jobs=-1)\n",
    "    grid.fit(X_train,y_train)\n",
    "\n",
    "    y_pred = grid.predict(X_test)\n",
    "    report = metrics.classification_report(y_test,y_pred, output_dict= True) # output_dict = True because the result will come in dictionary\n",
    "    \n",
    "    result.append({\n",
    "        'model_name': name, \n",
    "        'best_parameters': param_grid,\n",
    "        'accuracy': round(metrics.accuracy_score(y_test,y_pred), 4),\n",
    "        'f1-score': round(report['weighted avg']['f1-score'], 4)\n",
    "    })\n",
    "\n",
    "    best_pipeline[name] = grid.best_estimator_"
   ]
  },
  {
   "cell_type": "code",
   "execution_count": 24,
   "id": "fe24d523-5dd1-4835-bcd4-97c435f2b035",
   "metadata": {},
   "outputs": [
    {
     "name": "stdout",
     "output_type": "stream",
     "text": [
      "[{'model_name': 'LogisticRegression', 'best_parameters': {'model__C': [0.1, 1, 10]}, 'accuracy': 0.36, 'f1-score': 0.3593}, {'model_name': 'SVM', 'best_parameters': {'model__C': [0.1, 1, 10]}, 'accuracy': 0.3, 'f1-score': 0.301}, {'model_name': 'RandomForestClassifier', 'best_parameters': {'model__n_estimators': [50, 100, 200], 'model__max_depth': [None, 5, 10]}, 'accuracy': 0.38, 'f1-score': 0.377}, {'model_name': 'AdaBoostClassifier', 'best_parameters': {'model__n_estimators': [50, 100, 200], 'model__learning_rate': [0.5, 1]}, 'accuracy': 0.42, 'f1-score': 0.4157}, {'model_name': 'XGBoost', 'best_parameters': {'model__n_estimators': [50, 100, 200], 'model__max_depth': [None, 5, 10], 'model__learning_rate': [0.5, 1]}, 'accuracy': 0.38, 'f1-score': 0.3813}]\n"
     ]
    }
   ],
   "source": [
    "print(result)"
   ]
  },
  {
   "cell_type": "code",
   "execution_count": 25,
   "id": "0b0ed24b-0989-4c41-bc13-132ff1757954",
   "metadata": {},
   "outputs": [
    {
     "name": "stdout",
     "output_type": "stream",
     "text": [
      "\n",
      "Model Comparison: \n",
      "                model_name                                    best_parameters  \\\n",
      "3      AdaBoostClassifier  {'model__n_estimators': [50, 100, 200], 'model...   \n",
      "4                 XGBoost  {'model__n_estimators': [50, 100, 200], 'model...   \n",
      "2  RandomForestClassifier  {'model__n_estimators': [50, 100, 200], 'model...   \n",
      "0      LogisticRegression                         {'model__C': [0.1, 1, 10]}   \n",
      "1                     SVM                         {'model__C': [0.1, 1, 10]}   \n",
      "\n",
      "   accuracy  f1-score  \n",
      "3      0.42    0.4157  \n",
      "4      0.38    0.3813  \n",
      "2      0.38    0.3770  \n",
      "0      0.36    0.3593  \n",
      "1      0.30    0.3010  \n",
      "\n",
      "Best Model: AdaBoostClassifier\n",
      "\n",
      "Best Hyperparameter: {'model__n_estimators': [50, 100, 200], 'model__learning_rate': [0.5, 1]}\n"
     ]
    }
   ],
   "source": [
    "# Compare the models\n",
    "result_df = pd.DataFrame(result)\n",
    "sorted_result_df = result_df.sort_values(by = 'accuracy', ascending = False)\n",
    "print('\\nModel Comparison: \\n', sorted_result_df)\n",
    "\n",
    "# Best Model\n",
    "best_row = sorted_result_df.iloc[0]\n",
    "best_model = best_row['model_name']\n",
    "print('\\nBest Model:', best_model)\n",
    "print('\\nBest Hyperparameter:', best_row['best_parameters'])"
   ]
  },
  {
   "cell_type": "code",
   "execution_count": 26,
   "id": "bef5bc33-fc0d-40cc-9d8a-5467d42a5df5",
   "metadata": {},
   "outputs": [
    {
     "name": "stdout",
     "output_type": "stream",
     "text": [
      "The Status_pipeline.pkl is saved successfully\n"
     ]
    }
   ],
   "source": [
    "# Retraining best model on full dataset\n",
    "final_pipeline = best_pipeline[best_model]\n",
    "final_pipeline.fit(X,y)\n",
    "\n",
    "# Save Pipeline\n",
    "joblib.dump(final_pipeline, 'Status_pipeline.pkl')\n",
    "print('The Status_pipeline.pkl is saved successfully')"
   ]
  },
  {
   "cell_type": "code",
   "execution_count": null,
   "id": "bb002d5c-4da4-4f87-9463-c056a9cdfca2",
   "metadata": {},
   "outputs": [],
   "source": []
  }
 ],
 "metadata": {
  "kernelspec": {
   "display_name": "Python 3 (ipykernel)",
   "language": "python",
   "name": "python3"
  },
  "language_info": {
   "codemirror_mode": {
    "name": "ipython",
    "version": 3
   },
   "file_extension": ".py",
   "mimetype": "text/x-python",
   "name": "python",
   "nbconvert_exporter": "python",
   "pygments_lexer": "ipython3",
   "version": "3.13.7"
  }
 },
 "nbformat": 4,
 "nbformat_minor": 5
}
